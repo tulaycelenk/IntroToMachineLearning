{
  "nbformat": 4,
  "nbformat_minor": 0,
  "metadata": {
    "colab": {
      "provenance": [],
      "authorship_tag": "ABX9TyNrR4C4Fbc/Ycxu6znOMSzh",
      "include_colab_link": true
    },
    "kernelspec": {
      "name": "python3",
      "display_name": "Python 3"
    },
    "language_info": {
      "name": "python"
    }
  },
  "cells": [
    {
      "cell_type": "markdown",
      "metadata": {
        "id": "view-in-github",
        "colab_type": "text"
      },
      "source": [
        "<a href=\"https://colab.research.google.com/github/tulaycelenk/IntroToMachineLearning/blob/main/Week2-homework.ipynb\" target=\"_parent\"><img src=\"https://colab.research.google.com/assets/colab-badge.svg\" alt=\"Open In Colab\"/></a>"
      ]
    },
    {
      "cell_type": "code",
      "execution_count": null,
      "metadata": {
        "id": "k2fxI6ExwZxb"
      },
      "outputs": [],
      "source": [
        "import numpy as np\n"
      ]
    },
    {
      "cell_type": "code",
      "source": [
        "array = np.array([1,2,3])\n",
        "print(array)"
      ],
      "metadata": {
        "colab": {
          "base_uri": "https://localhost:8080/"
        },
        "id": "6ZedrNqlw6AP",
        "outputId": "18f03570-196b-4c6a-833f-6fb9cabce7f9"
      },
      "execution_count": null,
      "outputs": [
        {
          "output_type": "stream",
          "name": "stdout",
          "text": [
            "[1 2 3]\n"
          ]
        }
      ]
    },
    {
      "cell_type": "code",
      "source": [
        "array2= np.array([1,2,3,4,5,6,7,8,9,10,11,12,13,14,15])\n",
        "print(array2.shape)"
      ],
      "metadata": {
        "colab": {
          "base_uri": "https://localhost:8080/"
        },
        "id": "TZ1_HG7kxp65",
        "outputId": "a4ece7a8-2d04-486e-f20b-cd14ccd5f482"
      },
      "execution_count": null,
      "outputs": [
        {
          "output_type": "stream",
          "name": "stdout",
          "text": [
            "(15,)\n"
          ]
        }
      ]
    },
    {
      "cell_type": "code",
      "source": [
        "reshaped = array2.reshape(3,5)\n",
        "print(reshaped)\n",
        "\n",
        "#gives row and column\n",
        "print(reshaped.shape)\n",
        "\n",
        "#gives dimension\n",
        "print(reshaped.ndim)\n",
        "\n",
        "#gives type name\n",
        "print(reshaped.dtype.name)\n",
        "\n",
        "#gives size\n",
        "print(reshaped.size)\n",
        "\n",
        "#gives dimension\n",
        "print(reshaped.ndim)\n",
        "\n",
        "#gives type in python\n",
        "print(type(reshaped))"
      ],
      "metadata": {
        "colab": {
          "base_uri": "https://localhost:8080/"
        },
        "id": "3Q-2hKjJx2sQ",
        "outputId": "84d71ac0-14cb-401e-8290-6c5d6cba61e0"
      },
      "execution_count": null,
      "outputs": [
        {
          "output_type": "stream",
          "name": "stdout",
          "text": [
            "[[ 1  2  3  4  5]\n",
            " [ 6  7  8  9 10]\n",
            " [11 12 13 14 15]]\n",
            "(3, 5)\n",
            "2\n",
            "int64\n",
            "15\n",
            "2\n",
            "<class 'numpy.ndarray'>\n"
          ]
        }
      ]
    },
    {
      "cell_type": "code",
      "source": [
        "array4 = np.array([[1,2,3,4],[5,6,7,8],[9,10,11,12]])\n",
        "print(array4)\n",
        "print(array4.shape)"
      ],
      "metadata": {
        "colab": {
          "base_uri": "https://localhost:8080/"
        },
        "id": "ngiWfuET0rjn",
        "outputId": "899ccd78-81cc-4f04-e474-ab91b90bbb4c"
      },
      "execution_count": null,
      "outputs": [
        {
          "output_type": "stream",
          "name": "stdout",
          "text": [
            "[[ 1  2  3  4]\n",
            " [ 5  6  7  8]\n",
            " [ 9 10 11 12]]\n",
            "(3, 4)\n"
          ]
        }
      ]
    },
    {
      "cell_type": "code",
      "source": [
        "zeros = np.zeros((3,5))\n",
        "print(zeros)\n",
        "\n",
        "ones = np.ones((3,5))\n",
        "ones[0,0] = 5\n",
        "print(ones)"
      ],
      "metadata": {
        "colab": {
          "base_uri": "https://localhost:8080/"
        },
        "id": "M9qZ0tks2RCa",
        "outputId": "eea15fa4-d1b1-4b64-b54a-0150953cc9be"
      },
      "execution_count": null,
      "outputs": [
        {
          "output_type": "stream",
          "name": "stdout",
          "text": [
            "[[0. 0. 0. 0. 0.]\n",
            " [0. 0. 0. 0. 0.]\n",
            " [0. 0. 0. 0. 0.]]\n",
            "[[5. 1. 1. 1. 1.]\n",
            " [1. 1. 1. 1. 1.]\n",
            " [1. 1. 1. 1. 1.]]\n"
          ]
        }
      ]
    },
    {
      "cell_type": "code",
      "source": [
        "emptyArray = np.empty((3,3))\n",
        "print(emptyArray)"
      ],
      "metadata": {
        "colab": {
          "base_uri": "https://localhost:8080/"
        },
        "id": "C71pU_wv2poQ",
        "outputId": "3ca28dd8-8239-45e0-dd4c-0a25c0e1d07b"
      },
      "execution_count": null,
      "outputs": [
        {
          "output_type": "stream",
          "name": "stdout",
          "text": [
            "[[2.88230704e-316 0.00000000e+000 6.94822232e-310]\n",
            " [6.94822232e-310 6.94822232e-310 6.94822232e-310]\n",
            " [6.94822232e-310 6.94816005e-310 1.18575755e-321]]\n"
          ]
        }
      ]
    },
    {
      "cell_type": "code",
      "source": [
        "#from 5 to 40 by increasing 5 each time\n",
        "np.arange(5,40,5)"
      ],
      "metadata": {
        "colab": {
          "base_uri": "https://localhost:8080/"
        },
        "id": "QVOCK5x63h3i",
        "outputId": "b1a5f90e-76d1-4538-f93a-49ddf17510dd"
      },
      "execution_count": null,
      "outputs": [
        {
          "output_type": "execute_result",
          "data": {
            "text/plain": [
              "array([ 5, 10, 15, 20, 25, 30, 35])"
            ]
          },
          "metadata": {},
          "execution_count": 13
        }
      ]
    },
    {
      "cell_type": "code",
      "source": [
        "#between 0 and 10, it gives 20 values\n",
        "np.linspace(0,10,20)"
      ],
      "metadata": {
        "colab": {
          "base_uri": "https://localhost:8080/"
        },
        "id": "gbw5IsBp317d",
        "outputId": "6c63c933-10d4-4be6-f233-04363fd7496f"
      },
      "execution_count": null,
      "outputs": [
        {
          "output_type": "execute_result",
          "data": {
            "text/plain": [
              "array([ 0.        ,  1.11111111,  2.22222222,  3.33333333,  4.44444444,\n",
              "        5.55555556,  6.66666667,  7.77777778,  8.88888889, 10.        ])"
            ]
          },
          "metadata": {},
          "execution_count": 19
        }
      ]
    },
    {
      "cell_type": "code",
      "source": [
        "array5 = np.array([1,2,3])\n",
        "array6 = np.array([4,5,6])\n",
        "print(array5+array6)\n",
        "print(array5-array6)\n",
        "print(array5**2)"
      ],
      "metadata": {
        "colab": {
          "base_uri": "https://localhost:8080/"
        },
        "id": "Acb89k4n6OM4",
        "outputId": "c5150f96-39e4-4230-e066-385da0b3ab24"
      },
      "execution_count": null,
      "outputs": [
        {
          "output_type": "stream",
          "name": "stdout",
          "text": [
            "[5 7 9]\n",
            "[-3 -3 -3]\n",
            "[1 4 9]\n"
          ]
        }
      ]
    },
    {
      "cell_type": "code",
      "source": [
        "array7 = np.array([1,2,3])\n",
        "array8 = array7\n",
        "array9 = array8\n",
        "\n",
        "array9[0] = 90\n",
        "print(array7,array8,array9)"
      ],
      "metadata": {
        "colab": {
          "base_uri": "https://localhost:8080/"
        },
        "id": "R0Bh7bCB7YSW",
        "outputId": "780f8f28-baec-47f0-cec7-c7629627de90"
      },
      "execution_count": null,
      "outputs": [
        {
          "output_type": "stream",
          "name": "stdout",
          "text": [
            "[90  2  3] [90  2  3] [90  2  3]\n"
          ]
        }
      ]
    },
    {
      "cell_type": "code",
      "source": [
        "array10 = array9.copy()\n",
        "print(array10)\n",
        "array10[0]=101\n",
        "print(array7,array8,array9,array10)"
      ],
      "metadata": {
        "colab": {
          "base_uri": "https://localhost:8080/"
        },
        "id": "NGEnwmfh73jA",
        "outputId": "a80536e5-7f11-41f9-eb75-d0fdc6e94ebf"
      },
      "execution_count": null,
      "outputs": [
        {
          "output_type": "stream",
          "name": "stdout",
          "text": [
            "[90  2  3]\n",
            "[90  2  3] [90  2  3] [90  2  3] [101   2   3]\n"
          ]
        }
      ]
    },
    {
      "cell_type": "code",
      "source": [
        "array11 = np.array([[1,2,3,4,5],[6,7,8,9,10]])\n",
        "print(array11)\n",
        "print(array11[1,1])\n",
        "print(array11[:,2])\n",
        "print(array11[0,:])\n",
        "print(array11[1,1:])"
      ],
      "metadata": {
        "colab": {
          "base_uri": "https://localhost:8080/"
        },
        "id": "N-iBZCUf9HJ_",
        "outputId": "5df54e7c-ea73-42f3-aed1-69ad380994b4"
      },
      "execution_count": null,
      "outputs": [
        {
          "output_type": "stream",
          "name": "stdout",
          "text": [
            "[[ 1  2  3  4  5]\n",
            " [ 6  7  8  9 10]]\n",
            "7\n",
            "[3 8]\n",
            "[1 2 3 4 5]\n"
          ]
        }
      ]
    },
    {
      "cell_type": "code",
      "source": [
        "b=np.array([[1,2,3,4,5,6,7],[8,9,11,22,33,44,55]])\n",
        "b"
      ],
      "metadata": {
        "colab": {
          "base_uri": "https://localhost:8080/"
        },
        "id": "kC3GBvhcKb0O",
        "outputId": "d374fec4-90f4-4515-8bf2-620e187b9606"
      },
      "execution_count": 28,
      "outputs": [
        {
          "output_type": "execute_result",
          "data": {
            "text/plain": [
              "array([[ 1,  2,  3,  4,  5,  6,  7],\n",
              "       [ 8,  9, 11, 22, 33, 44, 55]])"
            ]
          },
          "metadata": {},
          "execution_count": 28
        }
      ]
    },
    {
      "cell_type": "markdown",
      "source": [],
      "metadata": {
        "id": "XjXS5kGh53LQ"
      }
    },
    {
      "cell_type": "code",
      "source": [
        "#all rows first column\n",
        "print(b[:,1])"
      ],
      "metadata": {
        "colab": {
          "base_uri": "https://localhost:8080/"
        },
        "id": "QAlafIx4LxtA",
        "outputId": "b384cda7-56eb-4328-a813-2747f1f346ba"
      },
      "execution_count": 29,
      "outputs": [
        {
          "output_type": "stream",
          "name": "stdout",
          "text": [
            "[2 9]\n"
          ]
        }
      ]
    },
    {
      "cell_type": "code",
      "source": [
        "#all columns first row\n",
        "print(b[1,:])"
      ],
      "metadata": {
        "colab": {
          "base_uri": "https://localhost:8080/"
        },
        "id": "h6wcJj97L8v_",
        "outputId": "65daecd2-6337-43f4-8aa4-2676f28be4a2"
      },
      "execution_count": 30,
      "outputs": [
        {
          "output_type": "stream",
          "name": "stdout",
          "text": [
            "[ 8  9 11 22 33 44 55]\n"
          ]
        }
      ]
    },
    {
      "cell_type": "code",
      "source": [
        "#starts from beginning\n",
        "print(b[-1,:])"
      ],
      "metadata": {
        "colab": {
          "base_uri": "https://localhost:8080/"
        },
        "id": "rsn7b08wMNms",
        "outputId": "54e767a0-fb6c-4317-bf6d-f5ae332a96d1"
      },
      "execution_count": 31,
      "outputs": [
        {
          "output_type": "stream",
          "name": "stdout",
          "text": [
            "[ 8  9 11 22 33 44 55]\n"
          ]
        }
      ]
    },
    {
      "cell_type": "code",
      "source": [
        "#transform array to one dimentional version\n",
        "b=b.ravel()\n",
        "b"
      ],
      "metadata": {
        "colab": {
          "base_uri": "https://localhost:8080/"
        },
        "id": "bnFf0-0WMjRw",
        "outputId": "127043e1-8c7e-4800-dfe0-138eb17de5b6"
      },
      "execution_count": 33,
      "outputs": [
        {
          "output_type": "execute_result",
          "data": {
            "text/plain": [
              "array([ 1,  2,  3,  4,  5,  6,  7,  8,  9, 11, 22, 33, 44, 55])"
            ]
          },
          "metadata": {},
          "execution_count": 33
        }
      ]
    },
    {
      "cell_type": "code",
      "source": [
        "#transpose\n",
        "b.T\n",
        "print(b)"
      ],
      "metadata": {
        "colab": {
          "base_uri": "https://localhost:8080/"
        },
        "id": "4MdOa9w0MvO8",
        "outputId": "ef8ff41c-8b7d-48ea-8bc5-1206b30dca12"
      },
      "execution_count": 36,
      "outputs": [
        {
          "output_type": "stream",
          "name": "stdout",
          "text": [
            "[ 1  2  3  4  5  6  7  8  9 11 22 33 44 55]\n"
          ]
        }
      ]
    }
  ]
}